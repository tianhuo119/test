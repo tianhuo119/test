{
 "cells": [
  {
   "cell_type": "code",
   "execution_count": 1,
   "metadata": {},
   "outputs": [
    {
     "name": "stdout",
     "output_type": "stream",
     "text": [
      "临界值为:1.96\n",
      "小概率事件发生\n"
     ]
    }
   ],
   "source": [
    "import numpy as np\n",
    "import math\n",
    "import xlrd\n",
    "def sumCount(averageX,miu,sita,n):\n",
    "    return (averageX-miu)/math.sqrt(sita**2/n)\n",
    "def fetch(a,b):\n",
    "    return u>=ua\n",
    "def result(u,ua):\n",
    "    if fetch(u, ua):\n",
    "        print(\"小概率事件发生\")\n",
    "    else:\n",
    "        print(\"符合正态分布\")\n",
    "def linjie(x):\n",
    "    wb=xlrd.open_workbook(\"标准正态分布表.xlsx\")\n",
    "    sh=wb.sheet_by_index(0)\n",
    "    row=0\n",
    "    flag=1\n",
    "    while row<sh.nrows:\n",
    "        col = 0\n",
    "        while col<sh.ncols:\n",
    "            if x==sh.cell(rowx=row,colx=col).value:\n",
    "                linjiezhi=sh.cell(rowx=row,colx=0).value+sh.cell(rowx=0,colx=col).value\n",
    "                flag=0\n",
    "                break\n",
    "            col+=1\n",
    "        row += 1\n",
    "    if(flag==1):\n",
    "        linjiezhi=-1\n",
    "    print(\"临界值为:{}\".format(linjiezhi))\n",
    "    return linjiezhi\n",
    "arerfa=0.05\n",
    "x=[501.8,502.4,499,500.3,504.5,498.2,505.6]\n",
    "miu=500\n",
    "sita=2\n",
    "n=7\n",
    "u=sumCount(np.mean(x),miu,sita,n)\n",
    "u=np.abs(u)\n",
    "ua=linjie(1-arerfa/2)\n",
    "if(ua==-1):\n",
    "    print(\"临界值异常，请重新分配显著性水平\")\n",
    "else:\n",
    "    result(u,ua)\n",
    "\n"
   ]
  },
  {
   "cell_type": "code",
   "execution_count": 2,
   "metadata": {
    "collapsed": true
   },
   "outputs": [],
   "source": [
    "from pyspark import mllib"
   ]
  },
  {
   "cell_type": "code",
   "execution_count": null,
   "metadata": {
    "collapsed": true
   },
   "outputs": [],
   "source": []
  }
 ],
 "metadata": {
  "kernelspec": {
   "display_name": "Python 3",
   "language": "python",
   "name": "python3"
  },
  "language_info": {
   "codemirror_mode": {
    "name": "ipython",
    "version": 3
   },
   "file_extension": ".py",
   "mimetype": "text/x-python",
   "name": "python",
   "nbconvert_exporter": "python",
   "pygments_lexer": "ipython3",
   "version": "3.6.2"
  }
 },
 "nbformat": 4,
 "nbformat_minor": 2
}
